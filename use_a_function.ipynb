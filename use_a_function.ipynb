{
 "cells": [
  {
   "cell_type": "markdown",
   "id": "5782ae11",
   "metadata": {},
   "source": [
    "# use_a_function"
   ]
  },
  {
   "cell_type": "code",
   "execution_count": null,
   "id": "90d857f1",
   "metadata": {},
   "outputs": [
    {
     "name": "stdout",
     "output_type": "stream",
     "text": [
      "The autoreload extension is already loaded. To reload it, use:\n",
      "  %reload_ext autoreload\n"
     ]
    }
   ],
   "source": [
    "%load_ext autoreload\n",
    "%autoreload 2"
   ]
  },
  {
   "cell_type": "code",
   "execution_count": null,
   "id": "c60a0ce8",
   "metadata": {},
   "outputs": [
    {
     "data": {
      "text/plain": [
       "154"
      ]
     },
     "execution_count": null,
     "metadata": {},
     "output_type": "execute_result"
    }
   ],
   "source": [
    "from wailing_gecko.define_a import double_it\n",
    "\n",
    "double_it(77)"
   ]
  },
  {
   "cell_type": "code",
   "execution_count": null,
   "id": "c374a8d0",
   "metadata": {},
   "outputs": [
    {
     "ename": "ImportError",
     "evalue": "cannot import name 'halve_it' from 'wailing_gecko.define_a' (/Users/istenson/temp/nbdev_test/wailing_gecko/wailing_gecko/define_a.py)",
     "output_type": "error",
     "traceback": [
      "\u001b[0;31m---------------------------------------------------------------------------\u001b[0m",
      "\u001b[0;31mImportError\u001b[0m                               Traceback (most recent call last)",
      "Input \u001b[0;32mIn [5]\u001b[0m, in \u001b[0;36m<module>\u001b[0;34m\u001b[0m\n\u001b[0;32m----> 1\u001b[0m \u001b[38;5;28;01mfrom\u001b[39;00m \u001b[38;5;21;01mwailing_gecko\u001b[39;00m\u001b[38;5;21;01m.\u001b[39;00m\u001b[38;5;21;01mdefine_a\u001b[39;00m \u001b[38;5;28;01mimport\u001b[39;00m halve_it\n\u001b[1;32m      2\u001b[0m halve_it(\u001b[38;5;241m19.5\u001b[39m)\n",
      "\u001b[0;31mImportError\u001b[0m: cannot import name 'halve_it' from 'wailing_gecko.define_a' (/Users/istenson/temp/nbdev_test/wailing_gecko/wailing_gecko/define_a.py)"
     ]
    }
   ],
   "source": [
    "from wailing_gecko.define_a import halve_it\n",
    "halve_it(19.5)"
   ]
  },
  {
   "cell_type": "code",
   "execution_count": null,
   "id": "a0d866ff",
   "metadata": {},
   "outputs": [],
   "source": []
  }
 ],
 "metadata": {
  "kernelspec": {
   "display_name": "Python 3 (ipykernel)",
   "language": "python",
   "name": "python3"
  }
 },
 "nbformat": 4,
 "nbformat_minor": 5
}
