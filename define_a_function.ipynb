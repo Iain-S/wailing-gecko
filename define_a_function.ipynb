{
 "cells": [
  {
   "cell_type": "markdown",
   "id": "ce68beb0",
   "metadata": {},
   "source": [
    "# define_a"
   ]
  },
  {
   "cell_type": "code",
   "execution_count": null,
   "id": "d0b640e0",
   "metadata": {},
   "outputs": [],
   "source": [
    "# default_exp define_a"
   ]
  },
  {
   "cell_type": "code",
   "execution_count": null,
   "id": "c3c8a68d",
   "metadata": {},
   "outputs": [],
   "source": [
    "# export\n",
    "def double_it(it):\n",
    "    return it * 2\n",
    "\n",
    "\n",
    "# export\n",
    "def halve_it(it):\n",
    "    return it / 2"
   ]
  },
  {
   "cell_type": "code",
   "execution_count": null,
   "id": "97a9c35f-23e7-495f-92f5-68f308570be8",
   "metadata": {},
   "outputs": [],
   "source": [
    "from fastcore.test import all_equal, test\n",
    "\n",
    "test([\"a\", \"b\"], [\"a\", \"b\"], all_equal)"
   ]
  },
  {
   "cell_type": "code",
   "execution_count": null,
   "id": "04b1e6b6",
   "metadata": {},
   "outputs": [
    {
     "name": "stdout",
     "output_type": "stream",
     "text": [
      "Converted 00_core.ipynb.\n",
      "Converted define_a_function.ipynb.\n",
      "Converted index.ipynb.\n",
      "Converted use_a_function.ipynb.\n"
     ]
    }
   ],
   "source": [
    "from nbdev.export import notebook2script\n",
    "\n",
    "notebook2script()"
   ]
  },
  {
   "cell_type": "code",
   "execution_count": null,
   "id": "52ebcac5",
   "metadata": {},
   "outputs": [],
   "source": []
  }
 ],
 "metadata": {
  "kernelspec": {
   "display_name": "Python 3 (ipykernel)",
   "language": "python",
   "name": "python3"
  }
 },
 "nbformat": 4,
 "nbformat_minor": 5
}
